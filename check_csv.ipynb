{
 "cells": [
  {
   "cell_type": "code",
   "execution_count": 1,
   "id": "bcfece02",
   "metadata": {},
   "outputs": [],
   "source": [
    "import cv2\n",
    "import logging\n",
    "import pandas as pd\n",
    "import logging\n",
    "import os\n",
    "from multiprocessing import Pool, Manager\n",
    "import functools"
   ]
  },
  {
   "cell_type": "code",
   "execution_count": 2,
   "id": "d0004226",
   "metadata": {},
   "outputs": [],
   "source": [
    "csv_dir = \"./arliss_teacher2\"\n",
    "test_csv_path = os.path.join(csv_dir, \"sub-test-annotations-bbox.csv\")\n",
    "train_csv_path = os.path.join(csv_dir, \"sub-train-annotations-bbox.csv\")\n",
    "validation_csv_path = os.path.join(csv_dir, \"sub-validation-annotations-bbox.csv\")"
   ]
  },
  {
   "cell_type": "code",
   "execution_count": 3,
   "id": "e6542458",
   "metadata": {},
   "outputs": [],
   "source": [
    "test_csv = pd.read_csv(test_csv_path)\n",
    "train_csv = pd.read_csv(train_csv_path)\n",
    "validation_csv = pd.read_csv(validation_csv_path)"
   ]
  },
  {
   "cell_type": "code",
   "execution_count": 4,
   "id": "287bd712",
   "metadata": {},
   "outputs": [
    {
     "name": "stdout",
     "output_type": "stream",
     "text": [
      "./arliss_teacher2/14_3A19_3A13.png\n",
      "takadamaLab_carryber\n",
      "1.0\n",
      "0.2733333333333333\n",
      "0.3633333333333333\n",
      "0.74\n",
      "0.9866666666666668\n",
      "trafficcone\n"
     ]
    }
   ],
   "source": [
    "for row ,i in enumerate(test_csv):\n",
    "    print(test_csv[i][2])"
   ]
  },
  {
   "cell_type": "code",
   "execution_count": 5,
   "id": "762dd466",
   "metadata": {},
   "outputs": [
    {
     "name": "stdout",
     "output_type": "stream",
     "text": [
      "box\n",
      "can\n",
      "trafficcone\n"
     ]
    }
   ],
   "source": [
    "for row, _ in test_csv.groupby(\"ClassName\"):\n",
    "    print(row)"
   ]
  },
  {
   "cell_type": "code",
   "execution_count": 6,
   "id": "1a72995f",
   "metadata": {},
   "outputs": [
    {
     "name": "stdout",
     "output_type": "stream",
     "text": [
      "box\n",
      "can\n",
      "trafficcone\n"
     ]
    }
   ],
   "source": [
    "for row, _  in train_csv.groupby(\"ClassName\"):\n",
    "    print(row)"
   ]
  },
  {
   "cell_type": "code",
   "execution_count": 7,
   "id": "9cdc3988",
   "metadata": {},
   "outputs": [
    {
     "name": "stdout",
     "output_type": "stream",
     "text": [
      "box\n",
      "can\n",
      "trafficcone\n"
     ]
    }
   ],
   "source": [
    "for row, _  in validation_csv.groupby(\"ClassName\"):\n",
    "    print(row)"
   ]
  }
 ],
 "metadata": {
  "kernelspec": {
   "display_name": "Python 3",
   "language": "python",
   "name": "python3"
  },
  "language_info": {
   "codemirror_mode": {
    "name": "ipython",
    "version": 3
   },
   "file_extension": ".py",
   "mimetype": "text/x-python",
   "name": "python",
   "nbconvert_exporter": "python",
   "pygments_lexer": "ipython3",
   "version": "3.6.9"
  }
 },
 "nbformat": 4,
 "nbformat_minor": 5
}
