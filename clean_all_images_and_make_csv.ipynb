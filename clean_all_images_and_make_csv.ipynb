{
 "cells": [
  {
   "cell_type": "code",
   "execution_count": 1,
   "id": "ab60542e",
   "metadata": {},
   "outputs": [],
   "source": [
    "import os\n",
    "import glob\n",
    "import pandas as pd"
   ]
  },
  {
   "cell_type": "code",
   "execution_count": 2,
   "id": "254ae3f0",
   "metadata": {},
   "outputs": [],
   "source": [
    "openimg_dir = \"images_openimages\"\n",
    "val_dir = os.path.join(openimg_dir, \"validation\")\n",
    "val_csv = os.path.join(openimg_dir, \"sub-validation-annotations-bbox.csv\")\n",
    "val_df = pd.read_csv(val_csv)\n",
    "val_predf = pd.read_csv(os.path.join(\"all_images\", \"tak-sub-validation-annotations-bbox.csv\"))\n",
    "\n",
    "test_dir = os.path.join(openimg_dir, \"test\")\n",
    "test_csv = os.path.join(openimg_dir, \"sub-test-annotations-bbox.csv\")\n",
    "test_df = pd.read_csv(test_csv)\n",
    "test_predf = pd.read_csv(os.path.join(\"all_images\", \"tak-sub-test-annotations-bbox.csv\"))\n",
    "\n",
    "train_dir = os.path.join(openimg_dir, \"train\")\n",
    "train_csv = os.path.join(openimg_dir, \"sub-train-annotations-bbox.csv\")\n",
    "train_df = pd.read_csv(train_csv)\n",
    "train_predf = pd.read_csv(os.path.join(\"all_images\", \"tak-sub-train-annotations-bbox.csv\"))"
   ]
  },
  {
   "cell_type": "code",
   "execution_count": 3,
   "id": "31f69cd1",
   "metadata": {},
   "outputs": [
    {
     "ename": "ValueError",
     "evalue": "Cannot take a larger sample than population when 'replace=False'",
     "output_type": "error",
     "traceback": [
      "\u001b[0;31m---------------------------------------------------------------------------\u001b[0m",
      "\u001b[0;31mValueError\u001b[0m                                Traceback (most recent call last)",
      "\u001b[0;32m<ipython-input-3-38edaaac3a3b>\u001b[0m in \u001b[0;36m<module>\u001b[0;34m\u001b[0m\n\u001b[1;32m      3\u001b[0m \u001b[0;32mfor\u001b[0m \u001b[0mtypedir\u001b[0m\u001b[0;34m,\u001b[0m \u001b[0mtypedf\u001b[0m\u001b[0;34m,\u001b[0m \u001b[0mType\u001b[0m\u001b[0;34m,\u001b[0m \u001b[0mpredf\u001b[0m \u001b[0;32min\u001b[0m \u001b[0;34m[\u001b[0m\u001b[0;34m(\u001b[0m\u001b[0mval_dir\u001b[0m\u001b[0;34m,\u001b[0m \u001b[0mval_df\u001b[0m\u001b[0;34m,\u001b[0m \u001b[0;34m\"validation\"\u001b[0m\u001b[0;34m,\u001b[0m \u001b[0mval_predf\u001b[0m\u001b[0;34m)\u001b[0m\u001b[0;34m,\u001b[0m \u001b[0;34m(\u001b[0m\u001b[0mtest_dir\u001b[0m\u001b[0;34m,\u001b[0m \u001b[0mtest_df\u001b[0m\u001b[0;34m,\u001b[0m \u001b[0;34m\"test\"\u001b[0m\u001b[0;34m,\u001b[0m \u001b[0mtest_predf\u001b[0m\u001b[0;34m)\u001b[0m\u001b[0;34m,\u001b[0m \u001b[0;34m(\u001b[0m\u001b[0mtrain_dir\u001b[0m\u001b[0;34m,\u001b[0m \u001b[0mtrain_df\u001b[0m\u001b[0;34m,\u001b[0m \u001b[0;34m\"train\"\u001b[0m\u001b[0;34m,\u001b[0m \u001b[0mtrain_predf\u001b[0m\u001b[0;34m)\u001b[0m\u001b[0;34m]\u001b[0m\u001b[0;34m:\u001b[0m\u001b[0;34m\u001b[0m\u001b[0;34m\u001b[0m\u001b[0m\n\u001b[1;32m      4\u001b[0m     \u001b[0mtypedf\u001b[0m\u001b[0;34m[\u001b[0m\u001b[0;34m\"ImageID\"\u001b[0m\u001b[0;34m]\u001b[0m \u001b[0;34m=\u001b[0m \u001b[0mtypedf\u001b[0m\u001b[0;34m.\u001b[0m\u001b[0mapply\u001b[0m\u001b[0;34m(\u001b[0m\u001b[0;32mlambda\u001b[0m \u001b[0mx\u001b[0m\u001b[0;34m:\u001b[0m \u001b[0mos\u001b[0m\u001b[0;34m.\u001b[0m\u001b[0mpath\u001b[0m\u001b[0;34m.\u001b[0m\u001b[0mjoin\u001b[0m\u001b[0;34m(\u001b[0m\u001b[0;34m\".\"\u001b[0m\u001b[0;34m,\u001b[0m \u001b[0;34m\"images_openimages\"\u001b[0m\u001b[0;34m,\u001b[0m \u001b[0mType\u001b[0m\u001b[0;34m,\u001b[0m \u001b[0mx\u001b[0m\u001b[0;34m[\u001b[0m\u001b[0;34m\"ImageID\"\u001b[0m\u001b[0;34m]\u001b[0m \u001b[0;34m+\u001b[0m \u001b[0;34m\".jpg\"\u001b[0m\u001b[0;34m)\u001b[0m\u001b[0;34m,\u001b[0m \u001b[0maxis\u001b[0m \u001b[0;34m=\u001b[0m \u001b[0;36m1\u001b[0m\u001b[0;34m)\u001b[0m\u001b[0;34m\u001b[0m\u001b[0;34m\u001b[0m\u001b[0m\n\u001b[0;32m----> 5\u001b[0;31m     \u001b[0mtypedf\u001b[0m \u001b[0;34m=\u001b[0m \u001b[0mtypedf\u001b[0m\u001b[0;34m.\u001b[0m\u001b[0msample\u001b[0m\u001b[0;34m(\u001b[0m\u001b[0mn\u001b[0m\u001b[0;34m=\u001b[0m\u001b[0;36m4000\u001b[0m\u001b[0;34m,\u001b[0m \u001b[0mreplace\u001b[0m\u001b[0;34m=\u001b[0m\u001b[0;32mFalse\u001b[0m\u001b[0;34m)\u001b[0m\u001b[0;34m\u001b[0m\u001b[0;34m\u001b[0m\u001b[0m\n\u001b[0m\u001b[1;32m      6\u001b[0m     \u001b[0;32mfor\u001b[0m \u001b[0melim\u001b[0m \u001b[0;32min\u001b[0m \u001b[0melim_object\u001b[0m\u001b[0;34m:\u001b[0m\u001b[0;34m\u001b[0m\u001b[0;34m\u001b[0m\u001b[0m\n\u001b[1;32m      7\u001b[0m         \u001b[0mtypedf\u001b[0m \u001b[0;34m=\u001b[0m \u001b[0mtypedf\u001b[0m\u001b[0;34m[\u001b[0m\u001b[0mtypedf\u001b[0m\u001b[0;34m[\u001b[0m\u001b[0;34m\"ClassName\"\u001b[0m\u001b[0;34m]\u001b[0m\u001b[0;34m!=\u001b[0m\u001b[0melim\u001b[0m\u001b[0;34m]\u001b[0m\u001b[0;34m\u001b[0m\u001b[0;34m\u001b[0m\u001b[0m\n",
      "\u001b[0;32m/usr/local/lib/python3.6/dist-packages/pandas/core/generic.py\u001b[0m in \u001b[0;36msample\u001b[0;34m(self, n, frac, replace, weights, random_state, axis)\u001b[0m\n\u001b[1;32m   4993\u001b[0m             )\n\u001b[1;32m   4994\u001b[0m \u001b[0;34m\u001b[0m\u001b[0m\n\u001b[0;32m-> 4995\u001b[0;31m         \u001b[0mlocs\u001b[0m \u001b[0;34m=\u001b[0m \u001b[0mrs\u001b[0m\u001b[0;34m.\u001b[0m\u001b[0mchoice\u001b[0m\u001b[0;34m(\u001b[0m\u001b[0maxis_length\u001b[0m\u001b[0;34m,\u001b[0m \u001b[0msize\u001b[0m\u001b[0;34m=\u001b[0m\u001b[0mn\u001b[0m\u001b[0;34m,\u001b[0m \u001b[0mreplace\u001b[0m\u001b[0;34m=\u001b[0m\u001b[0mreplace\u001b[0m\u001b[0;34m,\u001b[0m \u001b[0mp\u001b[0m\u001b[0;34m=\u001b[0m\u001b[0mweights\u001b[0m\u001b[0;34m)\u001b[0m\u001b[0;34m\u001b[0m\u001b[0;34m\u001b[0m\u001b[0m\n\u001b[0m\u001b[1;32m   4996\u001b[0m         \u001b[0;32mreturn\u001b[0m \u001b[0mself\u001b[0m\u001b[0;34m.\u001b[0m\u001b[0mtake\u001b[0m\u001b[0;34m(\u001b[0m\u001b[0mlocs\u001b[0m\u001b[0;34m,\u001b[0m \u001b[0maxis\u001b[0m\u001b[0;34m=\u001b[0m\u001b[0maxis\u001b[0m\u001b[0;34m)\u001b[0m\u001b[0;34m\u001b[0m\u001b[0;34m\u001b[0m\u001b[0m\n\u001b[1;32m   4997\u001b[0m \u001b[0;34m\u001b[0m\u001b[0m\n",
      "\u001b[0;32mmtrand.pyx\u001b[0m in \u001b[0;36mnumpy.random.mtrand.RandomState.choice\u001b[0;34m()\u001b[0m\n",
      "\u001b[0;31mValueError\u001b[0m: Cannot take a larger sample than population when 'replace=False'"
     ]
    }
   ],
   "source": [
    "elim_object = [\"Box\", \"Bottle\", \"Shirt\", \"Plate\", \"Lamp\", \"Jacket\"] \n",
    "\n",
    "for typedir, typedf, Type, predf in [(val_dir, val_df, \"validation\", val_predf), (test_dir, test_df, \"test\", test_predf), (train_dir, train_df, \"train\", train_predf)]:\n",
    "    typedf[\"ImageID\"] = typedf.apply(lambda x: os.path.join(\".\", \"images_openimages\", Type, x[\"ImageID\"] + \".jpg\"), axis = 1)\n",
    "    typedf = typedf.sample(frac=0.3)\n",
    "    for elim in elim_object:\n",
    "        typedf = typedf[typedf[\"ClassName\"]!=elim]\n",
    "    \n",
    "    typedf[\"ClassName\"] = typedf.apply(lambda x: \"BACKGROUND\", axis = 1)\n",
    "    typedf=typedf.reset_index()\n",
    "    #print(typedf[\"ImageID\"])\n",
    "    write_path = os.path.join(\".\", \"all_images\", \"sub-\" + Type + \"-annotations-bbox\" + \".csv\")\n",
    "    if os.path.exists(write_path):\n",
    "        os.remove(write_path)\n",
    "    li = (typedf, predf)\n",
    "    typedf = pd.concat(li)\n",
    "    typedf = typedf.drop(columns='index')\n",
    "    typedf = typedf.drop(columns='IsInside')\n",
    "    typedf = typedf.drop(columns='IsDepiction')\n",
    "    typedf = typedf.drop(columns='IsGroupOf')\n",
    "    typedf = typedf.drop(columns='IsTruncated')\n",
    "    typedf = typedf.drop(columns='IsOccluded')\n",
    "    typedf = typedf.drop(columns='Source')\n",
    "    typedf = typedf.drop(columns='id')\n",
    "    typedf.to_csv(write_path,index = False)"
   ]
  },
  {
   "cell_type": "code",
   "execution_count": null,
   "id": "b691259d",
   "metadata": {},
   "outputs": [],
   "source": []
  }
 ],
 "metadata": {
  "kernelspec": {
   "display_name": "Python 3",
   "language": "python",
   "name": "python3"
  },
  "language_info": {
   "codemirror_mode": {
    "name": "ipython",
    "version": 3
   },
   "file_extension": ".py",
   "mimetype": "text/x-python",
   "name": "python",
   "nbconvert_exporter": "python",
   "pygments_lexer": "ipython3",
   "version": "3.6.9"
  }
 },
 "nbformat": 4,
 "nbformat_minor": 5
}
