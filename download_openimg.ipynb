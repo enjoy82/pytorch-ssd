{
 "cells": [
  {
   "cell_type": "code",
   "execution_count": 1,
   "metadata": {},
   "outputs": [
    {
     "name": "stdout",
     "output_type": "stream",
     "text": [
      "Requirement already satisfied: pip in c:\\users\\naoya yatsu\\anaconda3\\lib\\site-packages (21.1.2)\n",
      "Looking in links: https://download.pytorch.org/whl/torch_stable.html\n",
      "Requirement already satisfied: torch==1.8.1+cu111 in c:\\users\\naoya yatsu\\anaconda3\\lib\\site-packages (1.8.1+cu111)\n",
      "Requirement already satisfied: torchvision==0.9.1+cu111 in c:\\users\\naoya yatsu\\anaconda3\\lib\\site-packages (0.9.1+cu111)\n",
      "Requirement already satisfied: torchaudio==0.8.1 in c:\\users\\naoya yatsu\\anaconda3\\lib\\site-packages (0.8.1)\n",
      "Requirement already satisfied: numpy in c:\\users\\naoya yatsu\\anaconda3\\lib\\site-packages (from torch==1.8.1+cu111) (1.19.2)\n",
      "Requirement already satisfied: typing-extensions in c:\\users\\naoya yatsu\\anaconda3\\lib\\site-packages (from torch==1.8.1+cu111) (3.7.4.3)\n",
      "Requirement already satisfied: pillow>=4.1.1 in c:\\users\\naoya yatsu\\anaconda3\\lib\\site-packages (from torchvision==0.9.1+cu111) (8.0.1)\n"
     ]
    }
   ],
   "source": [
    "#!apt-get install -y libgl1-mesa-dev\n",
    "!pip3 install --upgrade pip\n",
    "!pip3 install torch==1.8.1+cu111 torchvision==0.9.1+cu111 torchaudio==0.8.1 -f https://download.pytorch.org/whl/torch_stable.html"
   ]
  },
  {
   "cell_type": "code",
   "execution_count": 1,
   "metadata": {},
   "outputs": [
    {
     "output_type": "stream",
     "name": "stdout",
     "text": [
      "Requirement already satisfied: numpy in c:\\users\\naoya yatsu\\appdata\\local\\programs\\python\\python39\\lib\\site-packages (1.20.3)\n",
      "WARNING: You are using pip version 20.2.3; however, version 21.1.2 is available.\n",
      "You should consider upgrading via the 'c:\\users\\naoya yatsu\\appdata\\local\\programs\\python\\python39\\python.exe -m pip install --upgrade pip' command.\n",
      "Requirement already satisfied: pandas in c:\\users\\naoya yatsu\\appdata\\local\\programs\\python\\python39\\lib\\site-packages (1.2.4)\n",
      "Requirement already satisfied: numpy>=1.16.5 in c:\\users\\naoya yatsu\\appdata\\local\\programs\\python\\python39\\lib\\site-packages (from pandas) (1.20.3)\n",
      "Requirement already satisfied: pytz>=2017.3 in c:\\users\\naoya yatsu\\appdata\\local\\programs\\python\\python39\\lib\\site-packages (from pandas) (2021.1)\n",
      "Requirement already satisfied: python-dateutil>=2.7.3 in c:\\users\\naoya yatsu\\appdata\\roaming\\python\\python39\\site-packages (from pandas) (2.8.1)\n",
      "Requirement already satisfied: six>=1.5 in c:\\users\\naoya yatsu\\appdata\\roaming\\python\\python39\\site-packages (from python-dateutil>=2.7.3->pandas) (1.16.0)\n",
      "WARNING: You are using pip version 20.2.3; however, version 21.1.2 is available.\n",
      "You should consider upgrading via the 'c:\\users\\naoya yatsu\\appdata\\local\\programs\\python\\python39\\python.exe -m pip install --upgrade pip' command.\n",
      "Collecting multiprocessing    ERROR: Command errored out with exit status 1:\n",
      "     command: 'c:\\users\\naoya yatsu\\appdata\\local\\programs\\python\\python39\\python.exe' -c 'import sys, setuptools, tokenize; sys.argv[0] = '\"'\"'C:\\\\Users\\\\Naoya Yatsu\\\\AppData\\\\Local\\\\Temp\\\\pip-install-kqqyj4k6\\\\multiprocessing\\\\setup.py'\"'\"'; __file__='\"'\"'C:\\\\Users\\\\Naoya Yatsu\\\\AppData\\\\Local\\\\Temp\\\\pip-install-kqqyj4k6\\\\multiprocessing\\\\setup.py'\"'\"';f=getattr(tokenize, '\"'\"'open'\"'\"', open)(__file__);code=f.read().replace('\"'\"'\\r\\n'\"'\"', '\"'\"'\\n'\"'\"');f.close();exec(compile(code, __file__, '\"'\"'exec'\"'\"'))' egg_info --egg-base 'C:\\Users\\Naoya Yatsu\\AppData\\Local\\Temp\\pip-pip-egg-info-pfdci7u2'\n",
      "         cwd: C:\\Users\\Naoya Yatsu\\AppData\\Local\\Temp\\pip-install-kqqyj4k6\\multiprocessing\\\n",
      "    Complete output (6 lines):\n",
      "    Traceback (most recent call last):\n",
      "      File \"<string>\", line 1, in <module>\n",
      "      File \"C:\\Users\\Naoya Yatsu\\AppData\\Local\\Temp\\pip-install-kqqyj4k6\\multiprocessing\\setup.py\", line 94\n",
      "        print 'Macros:'\n",
      "              ^\n",
      "    SyntaxError: Missing parentheses in call to 'print'. Did you mean print('Macros:')?\n",
      "    ----------------------------------------\n",
      "ERROR: Command errored out with exit status 1: python setup.py egg_info Check the logs for full command output.\n",
      "WARNING: You are using pip version 20.2.3; however, version 21.1.2 is available.\n",
      "You should consider upgrading via the 'c:\\users\\naoya yatsu\\appdata\\local\\programs\\python\\python39\\python.exe -m pip install --upgrade pip' command.\n",
      "\n",
      "  Using cached multiprocessing-2.6.2.1.tar.gz (108 kB)\n",
      "Requirement already satisfied: botocore in c:\\users\\naoya yatsu\\appdata\\local\\programs\\python\\python39\\lib\\site-packages (1.20.91)\n",
      "Requirement already satisfied: urllib3<1.27,>=1.25.4 in c:\\users\\naoya yatsu\\appdata\\local\\programs\\python\\python39\\lib\\site-packages (from botocore) (1.26.5)\n",
      "Requirement already satisfied: python-dateutil<3.0.0,>=2.1 in c:\\users\\naoya yatsu\\appdata\\roaming\\python\\python39\\site-packages (from botocore) (2.8.1)\n",
      "Requirement already satisfied: jmespath<1.0.0,>=0.7.1 in c:\\users\\naoya yatsu\\appdata\\local\\programs\\python\\python39\\lib\\site-packages (from botocore) (0.10.0)\n",
      "Requirement already satisfied: six>=1.5 in c:\\users\\naoya yatsu\\appdata\\roaming\\python\\python39\\site-packages (from python-dateutil<3.0.0,>=2.1->botocore) (1.16.0)\n",
      "WARNING: You are using pip version 20.2.3; however, version 21.1.2 is available.\n",
      "You should consider upgrading via the 'c:\\users\\naoya yatsu\\appdata\\local\\programs\\python\\python39\\python.exe -m pip install --upgrade pip' command.\n",
      "Requirement already satisfied: boto3 in c:\\users\\naoya yatsu\\appdata\\local\\programs\\python\\python39\\lib\\site-packages (1.17.91)\n",
      "Requirement already satisfied: jmespath<1.0.0,>=0.7.1 in c:\\users\\naoya yatsu\\appdata\\local\\programs\\python\\python39\\lib\\site-packages (from boto3) (0.10.0)\n",
      "Requirement already satisfied: botocore<1.21.0,>=1.20.91 in c:\\users\\naoya yatsu\\appdata\\local\\programs\\python\\python39\\lib\\site-packages (from boto3) (1.20.91)\n",
      "Requirement already satisfied: s3transfer<0.5.0,>=0.4.0 in c:\\users\\naoya yatsu\\appdata\\local\\programs\\python\\python39\\lib\\site-packages (from boto3) (0.4.2)\n",
      "Requirement already satisfied: python-dateutil<3.0.0,>=2.1 in c:\\users\\naoya yatsu\\appdata\\roaming\\python\\python39\\site-packages (from botocore<1.21.0,>=1.20.91->boto3) (2.8.1)\n",
      "Requirement already satisfied: urllib3<1.27,>=1.25.4 in c:\\users\\naoya yatsu\\appdata\\local\\programs\\python\\python39\\lib\\site-packages (from botocore<1.21.0,>=1.20.91->boto3) (1.26.5)\n",
      "Requirement already satisfied: six>=1.5 in c:\\users\\naoya yatsu\\appdata\\roaming\\python\\python39\\site-packages (from python-dateutil<3.0.0,>=2.1->botocore<1.21.0,>=1.20.91->boto3) (1.16.0)\n",
      "WARNING: You are using pip version 20.2.3; however, version 21.1.2 is available.\n",
      "You should consider upgrading via the 'c:\\users\\naoya yatsu\\appdata\\local\\programs\\python\\python39\\python.exe -m pip install --upgrade pip' command.\n",
      "Requirement already satisfied: scikit-build in c:\\users\\naoya yatsu\\appdata\\local\\programs\\python\\python39\\lib\\site-packages (0.11.1)\n",
      "Requirement already satisfied: packaging in c:\\users\\naoya yatsu\\appdata\\local\\programs\\python\\python39\\lib\\site-packages (from scikit-build) (20.9)\n",
      "Requirement already satisfied: setuptools>=28.0.0; python_version >= \"3\" in c:\\users\\naoya yatsu\\appdata\\local\\programs\\python\\python39\\lib\\site-packages (from scikit-build) (49.2.1)\n",
      "Requirement already satisfied: wheel>=0.29.0 in c:\\users\\naoya yatsu\\appdata\\local\\programs\\python\\python39\\lib\\site-packages (from scikit-build) (0.36.2)\n",
      "Requirement already satisfied: distro in c:\\users\\naoya yatsu\\appdata\\local\\programs\\python\\python39\\lib\\site-packages (from scikit-build) (1.5.0)\n",
      "Requirement already satisfied: pyparsing>=2.0.2 in c:\\users\\naoya yatsu\\appdata\\local\\programs\\python\\python39\\lib\\site-packages (from packaging->scikit-build) (2.4.7)\n",
      "WARNING: You are using pip version 20.2.3; however, version 21.1.2 is available.\n",
      "You should consider upgrading via the 'c:\\users\\naoya yatsu\\appdata\\local\\programs\\python\\python39\\python.exe -m pip install --upgrade pip' command.\n",
      "Requirement already satisfied: cmake in c:\\users\\naoya yatsu\\appdata\\local\\programs\\python\\python39\\lib\\site-packages (3.20.2)\n",
      "WARNING: You are using pip version 20.2.3; however, version 21.1.2 is available.\n",
      "You should consider upgrading via the 'c:\\users\\naoya yatsu\\appdata\\local\\programs\\python\\python39\\python.exe -m pip install --upgrade pip' command.\n",
      "Requirement already satisfied: opencv-python in c:\\users\\naoya yatsu\\appdata\\local\\programs\\python\\python39\\lib\\site-packages (4.5.2.54)\n",
      "Requirement already satisfied: numpy>=1.19.3 in c:\\users\\naoya yatsu\\appdata\\local\\programs\\python\\python39\\lib\\site-packages (from opencv-python) (1.20.3)\n",
      "WARNING: You are using pip version 20.2.3; however, version 21.1.2 is available.\n",
      "You should consider upgrading via the 'c:\\users\\naoya yatsu\\appdata\\local\\programs\\python\\python39\\python.exe -m pip install --upgrade pip' command.\n"
     ]
    }
   ],
   "source": [
    "!pip3 install numpy\n",
    "!pip3 install pandas\n",
    "!pip3 install multiprocessing\n",
    "!pip3 install botocore\n",
    "!pip3 install boto3\n",
    "!pip3 install scikit-build\n",
    "!pip3 install cmake\n",
    "!pip3 install opencv-python"
   ]
  },
  {
   "cell_type": "code",
   "execution_count": 3,
   "metadata": {},
   "outputs": [
    {
     "output_type": "stream",
     "name": "stdout",
     "text": [
      "False\n"
     ]
    },
    {
     "output_type": "error",
     "ename": "AssertionError",
     "evalue": "Torch not compiled with CUDA enabled",
     "traceback": [
      "\u001b[1;31m---------------------------------------------------------------------------\u001b[0m",
      "\u001b[1;31mAssertionError\u001b[0m                            Traceback (most recent call last)",
      "\u001b[1;32m<ipython-input-3-f3dba6486386>\u001b[0m in \u001b[0;36m<module>\u001b[1;34m\u001b[0m\n\u001b[0;32m      2\u001b[0m \u001b[1;32mimport\u001b[0m \u001b[0mtorch\u001b[0m\u001b[1;33m\u001b[0m\u001b[1;33m\u001b[0m\u001b[0m\n\u001b[0;32m      3\u001b[0m \u001b[0mprint\u001b[0m\u001b[1;33m(\u001b[0m\u001b[0mtorch\u001b[0m\u001b[1;33m.\u001b[0m\u001b[0mcuda\u001b[0m\u001b[1;33m.\u001b[0m\u001b[0mis_available\u001b[0m\u001b[1;33m(\u001b[0m\u001b[1;33m)\u001b[0m\u001b[1;33m)\u001b[0m\u001b[1;33m\u001b[0m\u001b[1;33m\u001b[0m\u001b[0m\n\u001b[1;32m----> 4\u001b[1;33m \u001b[0mprint\u001b[0m\u001b[1;33m(\u001b[0m\u001b[0mtorch\u001b[0m\u001b[1;33m.\u001b[0m\u001b[0mcuda\u001b[0m\u001b[1;33m.\u001b[0m\u001b[0mget_device_name\u001b[0m\u001b[1;33m(\u001b[0m\u001b[1;33m)\u001b[0m\u001b[1;33m)\u001b[0m\u001b[1;33m\u001b[0m\u001b[1;33m\u001b[0m\u001b[0m\n\u001b[0m\u001b[0;32m      5\u001b[0m \u001b[0mDEVICE\u001b[0m \u001b[1;33m=\u001b[0m \u001b[0mtorch\u001b[0m\u001b[1;33m.\u001b[0m\u001b[0mdevice\u001b[0m\u001b[1;33m(\u001b[0m\u001b[1;34m\"cuda:0\"\u001b[0m \u001b[1;32mif\u001b[0m \u001b[0mtorch\u001b[0m\u001b[1;33m.\u001b[0m\u001b[0mcuda\u001b[0m\u001b[1;33m.\u001b[0m\u001b[0mis_available\u001b[0m\u001b[1;33m(\u001b[0m\u001b[1;33m)\u001b[0m \u001b[1;32melse\u001b[0m \u001b[1;34m\"cpu\"\u001b[0m\u001b[1;33m)\u001b[0m\u001b[1;33m\u001b[0m\u001b[1;33m\u001b[0m\u001b[0m\n",
      "\u001b[1;32m~\\AppData\\Local\\Programs\\Python\\Python39\\lib\\site-packages\\torch\\cuda\\__init__.py\u001b[0m in \u001b[0;36mget_device_name\u001b[1;34m(device)\u001b[0m\n\u001b[0;32m    274\u001b[0m         \u001b[0mstr\u001b[0m\u001b[1;33m:\u001b[0m \u001b[0mthe\u001b[0m \u001b[0mname\u001b[0m \u001b[0mof\u001b[0m \u001b[0mthe\u001b[0m \u001b[0mdevice\u001b[0m\u001b[1;33m\u001b[0m\u001b[1;33m\u001b[0m\u001b[0m\n\u001b[0;32m    275\u001b[0m     \"\"\"\n\u001b[1;32m--> 276\u001b[1;33m     \u001b[1;32mreturn\u001b[0m \u001b[0mget_device_properties\u001b[0m\u001b[1;33m(\u001b[0m\u001b[0mdevice\u001b[0m\u001b[1;33m)\u001b[0m\u001b[1;33m.\u001b[0m\u001b[0mname\u001b[0m\u001b[1;33m\u001b[0m\u001b[1;33m\u001b[0m\u001b[0m\n\u001b[0m\u001b[0;32m    277\u001b[0m \u001b[1;33m\u001b[0m\u001b[0m\n\u001b[0;32m    278\u001b[0m \u001b[1;33m\u001b[0m\u001b[0m\n",
      "\u001b[1;32m~\\AppData\\Local\\Programs\\Python\\Python39\\lib\\site-packages\\torch\\cuda\\__init__.py\u001b[0m in \u001b[0;36mget_device_properties\u001b[1;34m(device)\u001b[0m\n\u001b[0;32m    304\u001b[0m         \u001b[0m_CudaDeviceProperties\u001b[0m\u001b[1;33m:\u001b[0m \u001b[0mthe\u001b[0m \u001b[0mproperties\u001b[0m \u001b[0mof\u001b[0m \u001b[0mthe\u001b[0m \u001b[0mdevice\u001b[0m\u001b[1;33m\u001b[0m\u001b[1;33m\u001b[0m\u001b[0m\n\u001b[0;32m    305\u001b[0m     \"\"\"\n\u001b[1;32m--> 306\u001b[1;33m     \u001b[0m_lazy_init\u001b[0m\u001b[1;33m(\u001b[0m\u001b[1;33m)\u001b[0m  \u001b[1;31m# will define _get_device_properties\u001b[0m\u001b[1;33m\u001b[0m\u001b[1;33m\u001b[0m\u001b[0m\n\u001b[0m\u001b[0;32m    307\u001b[0m     \u001b[0mdevice\u001b[0m \u001b[1;33m=\u001b[0m \u001b[0m_get_device_index\u001b[0m\u001b[1;33m(\u001b[0m\u001b[0mdevice\u001b[0m\u001b[1;33m,\u001b[0m \u001b[0moptional\u001b[0m\u001b[1;33m=\u001b[0m\u001b[1;32mTrue\u001b[0m\u001b[1;33m)\u001b[0m\u001b[1;33m\u001b[0m\u001b[1;33m\u001b[0m\u001b[0m\n\u001b[0;32m    308\u001b[0m     \u001b[1;32mif\u001b[0m \u001b[0mdevice\u001b[0m \u001b[1;33m<\u001b[0m \u001b[1;36m0\u001b[0m \u001b[1;32mor\u001b[0m \u001b[0mdevice\u001b[0m \u001b[1;33m>=\u001b[0m \u001b[0mdevice_count\u001b[0m\u001b[1;33m(\u001b[0m\u001b[1;33m)\u001b[0m\u001b[1;33m:\u001b[0m\u001b[1;33m\u001b[0m\u001b[1;33m\u001b[0m\u001b[0m\n",
      "\u001b[1;32m~\\AppData\\Local\\Programs\\Python\\Python39\\lib\\site-packages\\torch\\cuda\\__init__.py\u001b[0m in \u001b[0;36m_lazy_init\u001b[1;34m()\u001b[0m\n\u001b[0;32m    162\u001b[0m                 \"multiprocessing, you must use the 'spawn' start method\")\n\u001b[0;32m    163\u001b[0m         \u001b[1;32mif\u001b[0m \u001b[1;32mnot\u001b[0m \u001b[0mhasattr\u001b[0m\u001b[1;33m(\u001b[0m\u001b[0mtorch\u001b[0m\u001b[1;33m.\u001b[0m\u001b[0m_C\u001b[0m\u001b[1;33m,\u001b[0m \u001b[1;34m'_cuda_getDeviceCount'\u001b[0m\u001b[1;33m)\u001b[0m\u001b[1;33m:\u001b[0m\u001b[1;33m\u001b[0m\u001b[1;33m\u001b[0m\u001b[0m\n\u001b[1;32m--> 164\u001b[1;33m             \u001b[1;32mraise\u001b[0m \u001b[0mAssertionError\u001b[0m\u001b[1;33m(\u001b[0m\u001b[1;34m\"Torch not compiled with CUDA enabled\"\u001b[0m\u001b[1;33m)\u001b[0m\u001b[1;33m\u001b[0m\u001b[1;33m\u001b[0m\u001b[0m\n\u001b[0m\u001b[0;32m    165\u001b[0m         \u001b[1;32mif\u001b[0m \u001b[0m_cudart\u001b[0m \u001b[1;32mis\u001b[0m \u001b[1;32mNone\u001b[0m\u001b[1;33m:\u001b[0m\u001b[1;33m\u001b[0m\u001b[1;33m\u001b[0m\u001b[0m\n\u001b[0;32m    166\u001b[0m             raise AssertionError(\n",
      "\u001b[1;31mAssertionError\u001b[0m: Torch not compiled with CUDA enabled"
     ]
    }
   ],
   "source": [
    "#確認\n",
    "import torch\n",
    "print(torch.cuda.is_available())\n",
    "print(torch.cuda.get_device_name())\n",
    "DEVICE = torch.device(\"cuda:0\" if torch.cuda.is_available() else \"cpu\")"
   ]
  },
  {
   "cell_type": "code",
   "execution_count": 2,
   "metadata": {},
   "outputs": [
    {
     "output_type": "execute_result",
     "data": {
      "text/plain": [
       "\"\\n#直列に変更\\ndef batch_download(bucket, file_paths, root, num_workers=4, retry=1):\\n    m = Manager()\\n    counter = m.Value('i', 0)\\n    lock = m.Lock()\\n    for file_path in file_paths:\\n        download(bucket, root, retry, counter, lock, file_path)\\n\""
      ]
     },
     "metadata": {},
     "execution_count": 2
    }
   ],
   "source": [
    "import cv2\n",
    "import logging\n",
    "import pandas as pd\n",
    "import logging\n",
    "import os\n",
    "from urllib import request\n",
    "def http_download(url, path):\n",
    "    with request.urlopen(url) as f:\n",
    "        with open(path, \"wb\") as fout:\n",
    "            buf = f.read(1024)\n",
    "            while buf:\n",
    "                fout.write(buf)\n",
    "                buf = f.read(1024)\n",
    "\n",
    "from multiprocessing import Pool, Manager\n",
    "import functools\n",
    "\n",
    "def log_counts(values):\n",
    "    for k, count in values.value_counts().iteritems():\n",
    "        logging.warning(f\"{k}: {count}/{len(values)} = {count/len(values):.2f}.\")\n",
    "\n",
    "import boto3\n",
    "from botocore import UNSIGNED\n",
    "from botocore.config import Config\n",
    "import botocore\n",
    "s3 = boto3.client('s3', config=Config(signature_version=UNSIGNED))\n",
    "def download(bucket, root, retry, counter, lock, path):\n",
    "    i = 0\n",
    "    src = path\n",
    "    dest = f\"{root}/{path}\"\n",
    "    logging.warning(\"start downloading :\" +  str(dest))\n",
    "    while i < retry:\n",
    "        try:\n",
    "            if not os.path.exists(dest):\n",
    "                s3.download_file(bucket, src, dest)\n",
    "            else:\n",
    "                logging.info(f\"{dest} already exists.\")\n",
    "            with lock:\n",
    "                counter.value += 1\n",
    "                if counter.value % 100 == 0:\n",
    "                    logging.warning(f\"Downloaded {counter.value} images.\")\n",
    "            return\n",
    "        except botocore.exceptions.ClientError as e:\n",
    "            if e.response['Error']['Code'] == \"404\":\n",
    "                logging.warning(f\"The file s3://{bucket}/{src} does not exist.\")\n",
    "                return\n",
    "            i += 1\n",
    "            logging.warning(f\"Sleep {i} and try again.\")\n",
    "            time.sleep(i)\n",
    "    logging.warning(f\"Failed to download the file s3://{bucket}/{src}. Exception: {e}\")\n",
    "\n",
    "def batch_download(bucket, file_paths, root, num_workers=4, retry=1):\n",
    "    with Pool(num_workers) as p:\n",
    "        m = Manager()\n",
    "        counter = m.Value('i', 0)\n",
    "        lock = m.Lock()\n",
    "        download_ = functools.partial(download, bucket, root, retry, counter, lock)\n",
    "        p.map(download_, file_paths)\n",
    "\"\"\"\n",
    "#直列に変更\n",
    "def batch_download(bucket, file_paths, root, num_workers=4, retry=1):\n",
    "    m = Manager()\n",
    "    counter = m.Value('i', 0)\n",
    "    lock = m.Lock()\n",
    "    for file_path in file_paths:\n",
    "        download(bucket, root, retry, counter, lock, file_path)\n",
    "\"\"\""
   ]
  },
  {
   "cell_type": "code",
   "execution_count": 3,
   "metadata": {
    "scrolled": false,
    "tags": []
   },
   "outputs": [
    {
     "output_type": "stream",
     "name": "stderr",
     "text": [
      "WARNING:root:Download https://storage.googleapis.com/openimages/2018_04/train/train-annotations-bbox.csv.\n",
      "WARNING:root:Read annotation file ./images\\train/train-annotations-bbox.csv\n",
      "WARNING:root:train bounding boxes size: 50660\n",
      "WARNING:root:Approximate Image Stats: \n",
      "WARNING:root:Bottle: 11136/16550 = 0.67.\n",
      "WARNING:root:Ball: 3229/16550 = 0.20.\n",
      "WARNING:root:Box: 2185/16550 = 0.13.\n",
      "WARNING:root:Label distribution: \n",
      "WARNING:root:Bottle: 39139/50660 = 0.77.\n",
      "WARNING:root:Ball: 6221/50660 = 0.12.\n",
      "WARNING:root:Box: 5300/50660 = 0.10.\n",
      "WARNING:root:Shuffle dataset.\n",
      "WARNING:root:Save train data to ./images/sub-train-annotations-bbox.csv.\n",
      "WARNING:root:Download https://storage.googleapis.com/openimages/2018_04/validation/validation-annotations-bbox.csv.\n",
      "WARNING:root:Read annotation file ./images\\validation/validation-annotations-bbox.csv\n",
      "WARNING:root:validation bounding boxes size: 691\n",
      "WARNING:root:Approximate Image Stats: \n",
      "WARNING:root:Bottle: 175/391 = 0.45.\n",
      "WARNING:root:Ball: 156/391 = 0.40.\n",
      "WARNING:root:Box: 60/391 = 0.15.\n",
      "WARNING:root:Label distribution: \n",
      "WARNING:root:Bottle: 336/691 = 0.49.\n",
      "WARNING:root:Ball: 262/691 = 0.38.\n",
      "WARNING:root:Box: 93/691 = 0.13.\n",
      "WARNING:root:Shuffle dataset.\n",
      "WARNING:root:Save validation data to ./images/sub-validation-annotations-bbox.csv.\n",
      "WARNING:root:Download https://storage.googleapis.com/openimages/2018_04/test/test-annotations-bbox.csv.\n",
      "WARNING:root:Read annotation file ./images\\test/test-annotations-bbox.csv\n",
      "WARNING:root:test bounding boxes size: 2086\n",
      "WARNING:root:Approximate Image Stats: \n",
      "WARNING:root:Bottle: 520/1175 = 0.44.\n",
      "WARNING:root:Ball: 479/1175 = 0.41.\n",
      "WARNING:root:Box: 176/1175 = 0.15.\n",
      "WARNING:root:Label distribution: \n",
      "WARNING:root:Bottle: 957/2086 = 0.46.\n",
      "WARNING:root:Ball: 877/2086 = 0.42.\n",
      "WARNING:root:Box: 252/2086 = 0.12.\n",
      "WARNING:root:Shuffle dataset.\n",
      "WARNING:root:Save test data to ./images/sub-test-annotations-bbox.csv.\n"
     ]
    },
    {
     "output_type": "execute_result",
     "data": {
      "text/plain": [
       "' \\nlogging.warning(f\"Start downloading {len(image_files)} images.\")\\nbatch_download(bucket, image_files, object_dir, 4, 10)\\nlogging.warning(\"Task Done.\")\\n'"
      ]
     },
     "metadata": {},
     "execution_count": 3
    }
   ],
   "source": [
    "\n",
    "#download open-images, make my own dataset!!!!\n",
    "bucket = \"open-images-dataset\"\n",
    "class_description_file = './class-descriptions-boxable.csv' #bofore download CLI \n",
    "class_descriptions = pd.read_csv(class_description_file,names=[\"id\", \"ClassName\"])\n",
    "#learn bottle data\n",
    "class_names = [\"Bottle\", \"Box\", \"Ball\", \"bicycle\", \"chair\", \"person\", \"tvmonitor\", \"bird\", \"Car\", \"Clock\", \"Laptop\", \"Traffic sign\", \"Jacket\", \"Plate\", \"Shirt\", \"Lamp\"]\n",
    "group_filters = []\n",
    "percentages = []\n",
    "#TODO 怪しい\n",
    "for class_name in class_names:\n",
    "    group_filters.append(\"\")\n",
    "    percentages.append(1.0)\n",
    "excluded_images = set()\n",
    "class_descriptions = class_descriptions[class_descriptions['ClassName'].isin(class_names)]\n",
    "\n",
    "image_files = []\n",
    "object_dir = \"./images_openimages\"\n",
    "os.makedirs(object_dir, exist_ok=True)\n",
    "for dataset_type in [\"train\", \"validation\", \"test\"]:\n",
    "    image_dir = os.path.join(object_dir, dataset_type)\n",
    "\n",
    "    #csvのダウンロード(バカ長い)\n",
    "    os.makedirs(image_dir, exist_ok=True)\n",
    "    annotation_file = f\"{image_dir}/{dataset_type}-annotations-bbox.csv\"\n",
    "    if os.path.exists(annotation_file): #check\n",
    "        os.remove(annotation_file)\n",
    "    url = f\"https://storage.googleapis.com/openimages/2018_04/{dataset_type}/{dataset_type}-annotations-bbox.csv\"\n",
    "    logging.warning(f\"Download {url}.\")\n",
    "    http_download(url, annotation_file)\n",
    "    logging.warning(f\"Read annotation file {annotation_file}\")\n",
    "    annotations = pd.read_csv(annotation_file)\n",
    "    annotations = pd.merge(annotations, class_descriptions,left_on=\"LabelName\", right_on=\"id\",how=\"inner\")\n",
    "    annotations = annotations.loc[annotations['IsDepiction'] != 1, :] #?\n",
    "\n",
    "    filtered = []\n",
    "    for class_name, group_filter, percentage in zip(class_names, group_filters, percentages):\n",
    "        sub = annotations.loc[annotations['ClassName'] == class_name, :]\n",
    "        excluded_images |= set(sub['ImageID'].sample(frac=1 - percentage))\n",
    "\n",
    "        if group_filter == '~group':\n",
    "            excluded_images |= set(sub.loc[sub['IsGroupOf'] == 1, 'ImageID'])\n",
    "        elif group_filter == 'group':\n",
    "            excluded_images |= set(sub.loc[sub['IsGroupOf'] == 0, 'ImageID'])\n",
    "        filtered.append(sub)\n",
    "\n",
    "    annotations = pd.concat(filtered)\n",
    "    annotations = annotations.loc[~annotations['ImageID'].isin(excluded_images), :]\n",
    "\n",
    "    annotations = annotations.sample(frac=1.0)\n",
    "\n",
    "    logging.warning(f\"{dataset_type} bounding boxes size: {annotations.shape[0]}\")\n",
    "    logging.warning(\"Approximate Image Stats: \")\n",
    "    log_counts(annotations.drop_duplicates([\"ImageID\", \"ClassName\"])[\"ClassName\"])\n",
    "    logging.warning(\"Label distribution: \")\n",
    "    log_counts(annotations['ClassName'])\n",
    "\n",
    "    logging.warning(f\"Shuffle dataset.\")\n",
    "\n",
    "\n",
    "    sub_annotation_file = f\"{object_dir}/sub-{dataset_type}-annotations-bbox.csv\"\n",
    "    if os.path.exists(sub_annotation_file): #check\n",
    "        os.remove(sub_annotation_file)\n",
    "    logging.warning(f\"Save {dataset_type} data to {sub_annotation_file}.\")\n",
    "    annotations.to_csv(sub_annotation_file, index=False)\n",
    "    image_files.extend(f\"{dataset_type}/{id}.jpg\" for id in set(annotations['ImageID']))\n",
    "\n",
    "logging.warning(f\"Start downloading {len(image_files)} images.\")\n",
    "batch_download(bucket, image_files, object_dir, 4, 3)\n",
    "logging.warning(\"Task Done.\")\n"
   ]
  }
 ],
 "metadata": {
  "kernelspec": {
   "name": "python394jvsc74a57bd0b021ac0aafe46a13d47d7ff47302cbe58b96c324d29fdab12fd61c852e90aa30",
   "display_name": "Python 3.9.4 64-bit"
  },
  "language_info": {
   "codemirror_mode": {
    "name": "ipython",
    "version": 3
   },
   "file_extension": ".py",
   "mimetype": "text/x-python",
   "name": "python",
   "nbconvert_exporter": "python",
   "pygments_lexer": "ipython3",
   "version": "3.9.4"
  },
  "metadata": {
   "interpreter": {
    "hash": "b021ac0aafe46a13d47d7ff47302cbe58b96c324d29fdab12fd61c852e90aa30"
   }
  }
 },
 "nbformat": 4,
 "nbformat_minor": 2
}