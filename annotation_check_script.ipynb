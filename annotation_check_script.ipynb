{
 "cells": [
  {
   "cell_type": "code",
   "execution_count": null,
   "id": "11b12079",
   "metadata": {},
   "outputs": [],
   "source": [
    "import numpy as np\n",
    "import pathlib\n",
    "import cv2\n",
    "import pandas as pd\n",
    "import os"
   ]
  },
  {
   "cell_type": "code",
   "execution_count": null,
   "id": "ee661f8d",
   "metadata": {},
   "outputs": [],
   "source": [
    "dir_path = \"./all_images\""
   ]
  },
  {
   "cell_type": "code",
   "execution_count": null,
   "id": "a455c3af",
   "metadata": {},
   "outputs": [],
   "source": [
    "train_file_path = os.path.join(dir_path, \"sub-train-annotations-bbox.csv\")\n",
    "train_csv = pd.read_csv(train_file_path)\n",
    "test_file_path = os.path.join(dir_path, \"sub-test-annotations-bbox.csv\")\n",
    "test_csv = pd.read_csv(test_file_path)\n",
    "val_file_path = os.path.join(dir_path, \"sub-validation-annotations-bbox.csv\")\n",
    "val_csv = pd.read_csv(val_file_path)"
   ]
  },
  {
   "cell_type": "code",
   "execution_count": null,
   "id": "a10a1a6a",
   "metadata": {},
   "outputs": [],
   "source": [
    "def display_annotation(img, row):\n",
    "    "
   ]
  }
 ],
 "metadata": {
  "kernelspec": {
   "display_name": "Python 3",
   "language": "python",
   "name": "python3"
  },
  "language_info": {
   "codemirror_mode": {
    "name": "ipython",
    "version": 3
   },
   "file_extension": ".py",
   "mimetype": "text/x-python",
   "name": "python",
   "nbconvert_exporter": "python",
   "pygments_lexer": "ipython3",
   "version": "3.6.9"
  }
 },
 "nbformat": 4,
 "nbformat_minor": 5
}
