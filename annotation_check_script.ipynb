{
 "cells": [
  {
   "cell_type": "code",
   "execution_count": null,
   "id": "11b12079",
   "metadata": {},
   "outputs": [],
   "source": [
    "import numpy as np\n",
    "import pathlib\n",
    "import cv2\n",
    "import pandas as pd\n",
    "import os\n",
    "import glob"
   ]
  },
  {
   "cell_type": "code",
   "execution_count": null,
   "id": "ee661f8d",
   "metadata": {},
   "outputs": [],
   "source": [
    "dir_path = \"./all_images\""
   ]
  },
  {
   "cell_type": "code",
   "execution_count": null,
   "id": "a455c3af",
   "metadata": {},
   "outputs": [],
   "source": [
    "train_file_path = os.path.join(dir_path, \"sub-train-annotations-bbox.csv\")\n",
    "train_csv = pd.read_csv(train_file_path)\n",
    "test_file_path = os.path.join(dir_path, \"sub-test-annotations-bbox.csv\")\n",
    "test_csv = pd.read_csv(test_file_path)\n",
    "val_file_path = os.path.join(dir_path, \"sub-validation-annotations-bbox.csv\")\n",
    "val_csv = pd.read_csv(val_file_path)\n",
    "\n",
    "csv_list = list(train_csv, test_csv, val_csv)"
   ]
  },
  {
   "cell_type": "code",
   "execution_count": null,
   "id": "a10a1a6a",
   "metadata": {},
   "outputs": [],
   "source": [
    "def display_annotation(img_path):\n",
    "    if not os.path.exists(img_path):\n",
    "        print(\"error!\", img_path, \"please remove this path!!\") #TODO チェック\n",
    "        return\n",
    "    img = cv2.imread(img_path)\n",
    "    img = cv2.resize(img, (300, 300))\n",
    "    h, w = img.shape[:2]\n",
    "    for csv in csv_list:\n",
    "        im_csv = csv[csv['ImageID'] == img_path]\n",
    "        for _, row in im_csv.iterrows():\n",
    "            x1 = row[\"XMin\"]\n",
    "            x2 = row[\"XMax\"]\n",
    "            y1 = row[\"YMin\"]\n",
    "            y2 = row[\"YMax\"]\n",
    "            label = row[\"ClassName\"]\n",
    "            cv2.rectangle(img, (x1, y1), (x2, y2), (255, 255, 0), 4)\n",
    "            cv2.putText(img, label,\n",
    "                        (int(x1) + 20, int(y1) + 40),\n",
    "                        cv2.FONT_HERSHEY_SIMPLEX,\n",
    "                        1,  # font scale\n",
    "                        (255, 0, 255),\n",
    "                        2)  # line type\n",
    "    Display(Image.fromarray(img))"
   ]
  },
  {
   "cell_type": "code",
   "execution_count": null,
   "metadata": {},
   "outputs": [],
   "source": [
    "pic_paths = glob.glob(os.path.join(dir_path, \"*.JPG\"))\n",
    "strat = 0 #start index\n",
    "interval = 50 #一度に表示させるもの"
   ]
  },
  {
   "cell_type": "code",
   "execution_count": null,
   "metadata": {},
   "outputs": [],
   "source": [
    "for path in pic_paths[stert:start+interval]:\n",
    "    print(path)\n",
    "    display_annotation(path)\n",
    "    start += interval"
   ]
  }
 ],
 "metadata": {
  "kernelspec": {
   "display_name": "Python 3",
   "language": "python",
   "name": "python3"
  },
  "language_info": {
   "codemirror_mode": {
    "name": "ipython",
    "version": 3
   },
   "file_extension": ".py",
   "mimetype": "text/x-python",
   "name": "python",
   "nbconvert_exporter": "python",
   "pygments_lexer": "ipython3",
   "version": "3.6.9"
  }
 },
 "nbformat": 4,
 "nbformat_minor": 5
}